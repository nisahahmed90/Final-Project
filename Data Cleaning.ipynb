{
 "cells": [
  {
   "cell_type": "code",
   "execution_count": 1,
   "id": "ee01928e",
   "metadata": {},
   "outputs": [],
   "source": [
    "import numpy as np\n",
    "import pandas as pd \n",
    "\n",
    "import seaborn as sns\n",
    "import matplotlib.pyplot as plt\n",
    "%matplotlib inline\n",
    "plt.style.use('ggplot')\n",
    "\n",
    "from sklearn.model_selection import train_test_split\n",
    "from sklearn.preprocessing import StandardScaler\n",
    "from sklearn import metrics\n",
    "from sklearn.model_selection import GridSearchCV\n",
    "from sklearn.model_selection import RandomizedSearchCV\n",
    "from sklearn.model_selection import cross_val_score\n",
    "from sklearn.metrics import confusion_matrix\n",
    "from sklearn.metrics import roc_curve, auc\n",
    "from sklearn.metrics import classification_report\n",
    "\n",
    "from sklearn.naive_bayes import GaussianNB\n",
    "from sklearn.neighbors import KNeighborsClassifier\n",
    "from sklearn.svm import SVC\n",
    "from sklearn.ensemble import RandomForestClassifier\n",
    "from sklearn.ensemble import GradientBoostingClassifier"
   ]
  },
  {
   "cell_type": "code",
   "execution_count": 4,
   "id": "e0b834d9",
   "metadata": {},
   "outputs": [],
   "source": [
    "#Data Import\n",
    "df = pd.read_csv(\"diabetes.csv\", index_col=0)"
   ]
  },
  {
   "cell_type": "markdown",
   "id": "2c209a77",
   "metadata": {},
   "source": [
    "# Data Description"
   ]
  },
  {
   "cell_type": "code",
   "execution_count": 5,
   "id": "fea58e33",
   "metadata": {},
   "outputs": [
    {
     "data": {
      "text/html": [
       "<div>\n",
       "<style scoped>\n",
       "    .dataframe tbody tr th:only-of-type {\n",
       "        vertical-align: middle;\n",
       "    }\n",
       "\n",
       "    .dataframe tbody tr th {\n",
       "        vertical-align: top;\n",
       "    }\n",
       "\n",
       "    .dataframe thead th {\n",
       "        text-align: right;\n",
       "    }\n",
       "</style>\n",
       "<table border=\"1\" class=\"dataframe\">\n",
       "  <thead>\n",
       "    <tr style=\"text-align: right;\">\n",
       "      <th></th>\n",
       "      <th>encounter_id</th>\n",
       "      <th>patient_nbr</th>\n",
       "      <th>race</th>\n",
       "      <th>gender</th>\n",
       "      <th>age</th>\n",
       "      <th>weight</th>\n",
       "      <th>admission_type_id</th>\n",
       "      <th>discharge_disposition_id</th>\n",
       "      <th>admission_source_id</th>\n",
       "      <th>time_in_hospital</th>\n",
       "      <th>...</th>\n",
       "      <th>citoglipton</th>\n",
       "      <th>insulin</th>\n",
       "      <th>glyburide.metformin</th>\n",
       "      <th>glipizide.metformin</th>\n",
       "      <th>glimepiride.pioglitazone</th>\n",
       "      <th>metformin.rosiglitazone</th>\n",
       "      <th>metformin.pioglitazone</th>\n",
       "      <th>change</th>\n",
       "      <th>diabetesMed</th>\n",
       "      <th>readmitted</th>\n",
       "    </tr>\n",
       "    <tr>\n",
       "      <th>id</th>\n",
       "      <th></th>\n",
       "      <th></th>\n",
       "      <th></th>\n",
       "      <th></th>\n",
       "      <th></th>\n",
       "      <th></th>\n",
       "      <th></th>\n",
       "      <th></th>\n",
       "      <th></th>\n",
       "      <th></th>\n",
       "      <th></th>\n",
       "      <th></th>\n",
       "      <th></th>\n",
       "      <th></th>\n",
       "      <th></th>\n",
       "      <th></th>\n",
       "      <th></th>\n",
       "      <th></th>\n",
       "      <th></th>\n",
       "      <th></th>\n",
       "      <th></th>\n",
       "    </tr>\n",
       "  </thead>\n",
       "  <tbody>\n",
       "    <tr>\n",
       "      <th>1</th>\n",
       "      <td>2278392</td>\n",
       "      <td>8222157</td>\n",
       "      <td>Caucasian</td>\n",
       "      <td>Female</td>\n",
       "      <td>[0-10)</td>\n",
       "      <td>?</td>\n",
       "      <td>6</td>\n",
       "      <td>25</td>\n",
       "      <td>1</td>\n",
       "      <td>1</td>\n",
       "      <td>...</td>\n",
       "      <td>No</td>\n",
       "      <td>No</td>\n",
       "      <td>No</td>\n",
       "      <td>No</td>\n",
       "      <td>No</td>\n",
       "      <td>No</td>\n",
       "      <td>No</td>\n",
       "      <td>No</td>\n",
       "      <td>No</td>\n",
       "      <td>NO</td>\n",
       "    </tr>\n",
       "    <tr>\n",
       "      <th>2</th>\n",
       "      <td>149190</td>\n",
       "      <td>55629189</td>\n",
       "      <td>Caucasian</td>\n",
       "      <td>Female</td>\n",
       "      <td>[10-20)</td>\n",
       "      <td>?</td>\n",
       "      <td>1</td>\n",
       "      <td>1</td>\n",
       "      <td>7</td>\n",
       "      <td>3</td>\n",
       "      <td>...</td>\n",
       "      <td>No</td>\n",
       "      <td>Up</td>\n",
       "      <td>No</td>\n",
       "      <td>No</td>\n",
       "      <td>No</td>\n",
       "      <td>No</td>\n",
       "      <td>No</td>\n",
       "      <td>Ch</td>\n",
       "      <td>Yes</td>\n",
       "      <td>&gt;30</td>\n",
       "    </tr>\n",
       "    <tr>\n",
       "      <th>3</th>\n",
       "      <td>64410</td>\n",
       "      <td>86047875</td>\n",
       "      <td>AfricanAmerican</td>\n",
       "      <td>Female</td>\n",
       "      <td>[20-30)</td>\n",
       "      <td>?</td>\n",
       "      <td>1</td>\n",
       "      <td>1</td>\n",
       "      <td>7</td>\n",
       "      <td>2</td>\n",
       "      <td>...</td>\n",
       "      <td>No</td>\n",
       "      <td>No</td>\n",
       "      <td>No</td>\n",
       "      <td>No</td>\n",
       "      <td>No</td>\n",
       "      <td>No</td>\n",
       "      <td>No</td>\n",
       "      <td>No</td>\n",
       "      <td>Yes</td>\n",
       "      <td>NO</td>\n",
       "    </tr>\n",
       "    <tr>\n",
       "      <th>4</th>\n",
       "      <td>500364</td>\n",
       "      <td>82442376</td>\n",
       "      <td>Caucasian</td>\n",
       "      <td>Male</td>\n",
       "      <td>[30-40)</td>\n",
       "      <td>?</td>\n",
       "      <td>1</td>\n",
       "      <td>1</td>\n",
       "      <td>7</td>\n",
       "      <td>2</td>\n",
       "      <td>...</td>\n",
       "      <td>No</td>\n",
       "      <td>Up</td>\n",
       "      <td>No</td>\n",
       "      <td>No</td>\n",
       "      <td>No</td>\n",
       "      <td>No</td>\n",
       "      <td>No</td>\n",
       "      <td>Ch</td>\n",
       "      <td>Yes</td>\n",
       "      <td>NO</td>\n",
       "    </tr>\n",
       "    <tr>\n",
       "      <th>5</th>\n",
       "      <td>16680</td>\n",
       "      <td>42519267</td>\n",
       "      <td>Caucasian</td>\n",
       "      <td>Male</td>\n",
       "      <td>[40-50)</td>\n",
       "      <td>?</td>\n",
       "      <td>1</td>\n",
       "      <td>1</td>\n",
       "      <td>7</td>\n",
       "      <td>1</td>\n",
       "      <td>...</td>\n",
       "      <td>No</td>\n",
       "      <td>Steady</td>\n",
       "      <td>No</td>\n",
       "      <td>No</td>\n",
       "      <td>No</td>\n",
       "      <td>No</td>\n",
       "      <td>No</td>\n",
       "      <td>Ch</td>\n",
       "      <td>Yes</td>\n",
       "      <td>NO</td>\n",
       "    </tr>\n",
       "  </tbody>\n",
       "</table>\n",
       "<p>5 rows × 50 columns</p>\n",
       "</div>"
      ],
      "text/plain": [
       "    encounter_id  patient_nbr             race  gender      age weight  \\\n",
       "id                                                                       \n",
       "1        2278392      8222157        Caucasian  Female   [0-10)      ?   \n",
       "2         149190     55629189        Caucasian  Female  [10-20)      ?   \n",
       "3          64410     86047875  AfricanAmerican  Female  [20-30)      ?   \n",
       "4         500364     82442376        Caucasian    Male  [30-40)      ?   \n",
       "5          16680     42519267        Caucasian    Male  [40-50)      ?   \n",
       "\n",
       "    admission_type_id  discharge_disposition_id  admission_source_id  \\\n",
       "id                                                                     \n",
       "1                   6                        25                    1   \n",
       "2                   1                         1                    7   \n",
       "3                   1                         1                    7   \n",
       "4                   1                         1                    7   \n",
       "5                   1                         1                    7   \n",
       "\n",
       "    time_in_hospital  ... citoglipton insulin  glyburide.metformin  \\\n",
       "id                    ...                                            \n",
       "1                  1  ...          No      No                   No   \n",
       "2                  3  ...          No      Up                   No   \n",
       "3                  2  ...          No      No                   No   \n",
       "4                  2  ...          No      Up                   No   \n",
       "5                  1  ...          No  Steady                   No   \n",
       "\n",
       "    glipizide.metformin  glimepiride.pioglitazone  metformin.rosiglitazone  \\\n",
       "id                                                                           \n",
       "1                    No                        No                       No   \n",
       "2                    No                        No                       No   \n",
       "3                    No                        No                       No   \n",
       "4                    No                        No                       No   \n",
       "5                    No                        No                       No   \n",
       "\n",
       "    metformin.pioglitazone  change diabetesMed readmitted  \n",
       "id                                                         \n",
       "1                       No      No          No         NO  \n",
       "2                       No      Ch         Yes        >30  \n",
       "3                       No      No         Yes         NO  \n",
       "4                       No      Ch         Yes         NO  \n",
       "5                       No      Ch         Yes         NO  \n",
       "\n",
       "[5 rows x 50 columns]"
      ]
     },
     "execution_count": 5,
     "metadata": {},
     "output_type": "execute_result"
    }
   ],
   "source": [
    "df.head()\n"
   ]
  },
  {
   "cell_type": "code",
   "execution_count": 7,
   "id": "b06bdc3a",
   "metadata": {},
   "outputs": [
    {
     "name": "stdout",
     "output_type": "stream",
     "text": [
      "<class 'pandas.core.frame.DataFrame'>\n",
      "Int64Index: 101766 entries, 1 to 101766\n",
      "Data columns (total 50 columns):\n",
      " #   Column                    Non-Null Count   Dtype \n",
      "---  ------                    --------------   ----- \n",
      " 0   encounter_id              101766 non-null  int64 \n",
      " 1   patient_nbr               101766 non-null  int64 \n",
      " 2   race                      101766 non-null  object\n",
      " 3   gender                    101766 non-null  object\n",
      " 4   age                       101766 non-null  object\n",
      " 5   weight                    101766 non-null  object\n",
      " 6   admission_type_id         101766 non-null  int64 \n",
      " 7   discharge_disposition_id  101766 non-null  int64 \n",
      " 8   admission_source_id       101766 non-null  int64 \n",
      " 9   time_in_hospital          101766 non-null  int64 \n",
      " 10  payer_code                101766 non-null  object\n",
      " 11  medical_specialty         101766 non-null  object\n",
      " 12  num_lab_procedures        101766 non-null  int64 \n",
      " 13  num_procedures            101766 non-null  int64 \n",
      " 14  num_medications           101766 non-null  int64 \n",
      " 15  number_outpatient         101766 non-null  int64 \n",
      " 16  number_emergency          101766 non-null  int64 \n",
      " 17  number_inpatient          101766 non-null  int64 \n",
      " 18  diag_1                    101766 non-null  object\n",
      " 19  diag_2                    101766 non-null  object\n",
      " 20  diag_3                    101766 non-null  object\n",
      " 21  number_diagnoses          101766 non-null  int64 \n",
      " 22  max_glu_serum             101766 non-null  object\n",
      " 23  A1Cresult                 101766 non-null  object\n",
      " 24  metformin                 101766 non-null  object\n",
      " 25  repaglinide               101766 non-null  object\n",
      " 26  nateglinide               101766 non-null  object\n",
      " 27  chlorpropamide            101766 non-null  object\n",
      " 28  glimepiride               101766 non-null  object\n",
      " 29  acetohexamide             101766 non-null  object\n",
      " 30  glipizide                 101766 non-null  object\n",
      " 31  glyburide                 101766 non-null  object\n",
      " 32  tolbutamide               101766 non-null  object\n",
      " 33  pioglitazone              101766 non-null  object\n",
      " 34  rosiglitazone             101766 non-null  object\n",
      " 35  acarbose                  101766 non-null  object\n",
      " 36  miglitol                  101766 non-null  object\n",
      " 37  troglitazone              101766 non-null  object\n",
      " 38  tolazamide                101766 non-null  object\n",
      " 39  examide                   101766 non-null  object\n",
      " 40  citoglipton               101766 non-null  object\n",
      " 41  insulin                   101766 non-null  object\n",
      " 42  glyburide.metformin       101766 non-null  object\n",
      " 43  glipizide.metformin       101766 non-null  object\n",
      " 44  glimepiride.pioglitazone  101766 non-null  object\n",
      " 45  metformin.rosiglitazone   101766 non-null  object\n",
      " 46  metformin.pioglitazone    101766 non-null  object\n",
      " 47  change                    101766 non-null  object\n",
      " 48  diabetesMed               101766 non-null  object\n",
      " 49  readmitted                101766 non-null  object\n",
      "dtypes: int64(13), object(37)\n",
      "memory usage: 39.6+ MB\n"
     ]
    }
   ],
   "source": [
    "df.info()\n"
   ]
  },
  {
   "cell_type": "markdown",
   "id": "3cb0124a",
   "metadata": {},
   "source": [
    "101766 Data points, \n",
    "50 features, \n",
    "missing data not shown by df.info(), \n",
    "Data type- integer or object (string)\n"
   ]
  },
  {
   "cell_type": "code",
   "execution_count": 8,
   "id": "3e64f9f4",
   "metadata": {},
   "outputs": [
    {
     "data": {
      "text/html": [
       "<div>\n",
       "<style scoped>\n",
       "    .dataframe tbody tr th:only-of-type {\n",
       "        vertical-align: middle;\n",
       "    }\n",
       "\n",
       "    .dataframe tbody tr th {\n",
       "        vertical-align: top;\n",
       "    }\n",
       "\n",
       "    .dataframe thead th {\n",
       "        text-align: right;\n",
       "    }\n",
       "</style>\n",
       "<table border=\"1\" class=\"dataframe\">\n",
       "  <thead>\n",
       "    <tr style=\"text-align: right;\">\n",
       "      <th></th>\n",
       "      <th>encounter_id</th>\n",
       "      <th>patient_nbr</th>\n",
       "      <th>admission_type_id</th>\n",
       "      <th>discharge_disposition_id</th>\n",
       "      <th>admission_source_id</th>\n",
       "      <th>time_in_hospital</th>\n",
       "      <th>num_lab_procedures</th>\n",
       "      <th>num_procedures</th>\n",
       "      <th>num_medications</th>\n",
       "      <th>number_outpatient</th>\n",
       "      <th>number_emergency</th>\n",
       "      <th>number_inpatient</th>\n",
       "      <th>number_diagnoses</th>\n",
       "    </tr>\n",
       "  </thead>\n",
       "  <tbody>\n",
       "    <tr>\n",
       "      <th>count</th>\n",
       "      <td>1.017660e+05</td>\n",
       "      <td>1.017660e+05</td>\n",
       "      <td>101766.000000</td>\n",
       "      <td>101766.000000</td>\n",
       "      <td>101766.000000</td>\n",
       "      <td>101766.000000</td>\n",
       "      <td>101766.000000</td>\n",
       "      <td>101766.000000</td>\n",
       "      <td>101766.000000</td>\n",
       "      <td>101766.000000</td>\n",
       "      <td>101766.000000</td>\n",
       "      <td>101766.000000</td>\n",
       "      <td>101766.000000</td>\n",
       "    </tr>\n",
       "    <tr>\n",
       "      <th>mean</th>\n",
       "      <td>1.652016e+08</td>\n",
       "      <td>5.433040e+07</td>\n",
       "      <td>2.024006</td>\n",
       "      <td>3.715642</td>\n",
       "      <td>5.754437</td>\n",
       "      <td>4.395987</td>\n",
       "      <td>43.095641</td>\n",
       "      <td>1.339730</td>\n",
       "      <td>16.021844</td>\n",
       "      <td>0.369357</td>\n",
       "      <td>0.197836</td>\n",
       "      <td>0.635566</td>\n",
       "      <td>7.422607</td>\n",
       "    </tr>\n",
       "    <tr>\n",
       "      <th>std</th>\n",
       "      <td>1.026403e+08</td>\n",
       "      <td>3.869636e+07</td>\n",
       "      <td>1.445403</td>\n",
       "      <td>5.280166</td>\n",
       "      <td>4.064081</td>\n",
       "      <td>2.985108</td>\n",
       "      <td>19.674362</td>\n",
       "      <td>1.705807</td>\n",
       "      <td>8.127566</td>\n",
       "      <td>1.267265</td>\n",
       "      <td>0.930472</td>\n",
       "      <td>1.262863</td>\n",
       "      <td>1.933600</td>\n",
       "    </tr>\n",
       "    <tr>\n",
       "      <th>min</th>\n",
       "      <td>1.252200e+04</td>\n",
       "      <td>1.350000e+02</td>\n",
       "      <td>1.000000</td>\n",
       "      <td>1.000000</td>\n",
       "      <td>1.000000</td>\n",
       "      <td>1.000000</td>\n",
       "      <td>1.000000</td>\n",
       "      <td>0.000000</td>\n",
       "      <td>1.000000</td>\n",
       "      <td>0.000000</td>\n",
       "      <td>0.000000</td>\n",
       "      <td>0.000000</td>\n",
       "      <td>1.000000</td>\n",
       "    </tr>\n",
       "    <tr>\n",
       "      <th>25%</th>\n",
       "      <td>8.496119e+07</td>\n",
       "      <td>2.341322e+07</td>\n",
       "      <td>1.000000</td>\n",
       "      <td>1.000000</td>\n",
       "      <td>1.000000</td>\n",
       "      <td>2.000000</td>\n",
       "      <td>31.000000</td>\n",
       "      <td>0.000000</td>\n",
       "      <td>10.000000</td>\n",
       "      <td>0.000000</td>\n",
       "      <td>0.000000</td>\n",
       "      <td>0.000000</td>\n",
       "      <td>6.000000</td>\n",
       "    </tr>\n",
       "    <tr>\n",
       "      <th>50%</th>\n",
       "      <td>1.523890e+08</td>\n",
       "      <td>4.550514e+07</td>\n",
       "      <td>1.000000</td>\n",
       "      <td>1.000000</td>\n",
       "      <td>7.000000</td>\n",
       "      <td>4.000000</td>\n",
       "      <td>44.000000</td>\n",
       "      <td>1.000000</td>\n",
       "      <td>15.000000</td>\n",
       "      <td>0.000000</td>\n",
       "      <td>0.000000</td>\n",
       "      <td>0.000000</td>\n",
       "      <td>8.000000</td>\n",
       "    </tr>\n",
       "    <tr>\n",
       "      <th>75%</th>\n",
       "      <td>2.302709e+08</td>\n",
       "      <td>8.754595e+07</td>\n",
       "      <td>3.000000</td>\n",
       "      <td>4.000000</td>\n",
       "      <td>7.000000</td>\n",
       "      <td>6.000000</td>\n",
       "      <td>57.000000</td>\n",
       "      <td>2.000000</td>\n",
       "      <td>20.000000</td>\n",
       "      <td>0.000000</td>\n",
       "      <td>0.000000</td>\n",
       "      <td>1.000000</td>\n",
       "      <td>9.000000</td>\n",
       "    </tr>\n",
       "    <tr>\n",
       "      <th>max</th>\n",
       "      <td>4.438672e+08</td>\n",
       "      <td>1.895026e+08</td>\n",
       "      <td>8.000000</td>\n",
       "      <td>28.000000</td>\n",
       "      <td>25.000000</td>\n",
       "      <td>14.000000</td>\n",
       "      <td>132.000000</td>\n",
       "      <td>6.000000</td>\n",
       "      <td>81.000000</td>\n",
       "      <td>42.000000</td>\n",
       "      <td>76.000000</td>\n",
       "      <td>21.000000</td>\n",
       "      <td>16.000000</td>\n",
       "    </tr>\n",
       "  </tbody>\n",
       "</table>\n",
       "</div>"
      ],
      "text/plain": [
       "       encounter_id   patient_nbr  admission_type_id  \\\n",
       "count  1.017660e+05  1.017660e+05      101766.000000   \n",
       "mean   1.652016e+08  5.433040e+07           2.024006   \n",
       "std    1.026403e+08  3.869636e+07           1.445403   \n",
       "min    1.252200e+04  1.350000e+02           1.000000   \n",
       "25%    8.496119e+07  2.341322e+07           1.000000   \n",
       "50%    1.523890e+08  4.550514e+07           1.000000   \n",
       "75%    2.302709e+08  8.754595e+07           3.000000   \n",
       "max    4.438672e+08  1.895026e+08           8.000000   \n",
       "\n",
       "       discharge_disposition_id  admission_source_id  time_in_hospital  \\\n",
       "count             101766.000000        101766.000000     101766.000000   \n",
       "mean                   3.715642             5.754437          4.395987   \n",
       "std                    5.280166             4.064081          2.985108   \n",
       "min                    1.000000             1.000000          1.000000   \n",
       "25%                    1.000000             1.000000          2.000000   \n",
       "50%                    1.000000             7.000000          4.000000   \n",
       "75%                    4.000000             7.000000          6.000000   \n",
       "max                   28.000000            25.000000         14.000000   \n",
       "\n",
       "       num_lab_procedures  num_procedures  num_medications  number_outpatient  \\\n",
       "count       101766.000000   101766.000000    101766.000000      101766.000000   \n",
       "mean            43.095641        1.339730        16.021844           0.369357   \n",
       "std             19.674362        1.705807         8.127566           1.267265   \n",
       "min              1.000000        0.000000         1.000000           0.000000   \n",
       "25%             31.000000        0.000000        10.000000           0.000000   \n",
       "50%             44.000000        1.000000        15.000000           0.000000   \n",
       "75%             57.000000        2.000000        20.000000           0.000000   \n",
       "max            132.000000        6.000000        81.000000          42.000000   \n",
       "\n",
       "       number_emergency  number_inpatient  number_diagnoses  \n",
       "count     101766.000000     101766.000000     101766.000000  \n",
       "mean           0.197836          0.635566          7.422607  \n",
       "std            0.930472          1.262863          1.933600  \n",
       "min            0.000000          0.000000          1.000000  \n",
       "25%            0.000000          0.000000          6.000000  \n",
       "50%            0.000000          0.000000          8.000000  \n",
       "75%            0.000000          1.000000          9.000000  \n",
       "max           76.000000         21.000000         16.000000  "
      ]
     },
     "execution_count": 8,
     "metadata": {},
     "output_type": "execute_result"
    }
   ],
   "source": [
    "df.describe()"
   ]
  },
  {
   "cell_type": "code",
   "execution_count": 9,
   "id": "f154cd8a",
   "metadata": {},
   "outputs": [
    {
     "data": {
      "text/plain": [
       "[Text(0.5, 1.0, 'Missing Data'),\n",
       " Text(0.5, 14.09375, 'Columns'),\n",
       " Text(33.0, 0.5, 'Data Points')]"
      ]
     },
     "execution_count": 9,
     "metadata": {},
     "output_type": "execute_result"
    },
    {
     "data": {
      "image/png": "[encoded data removed]",
      "text/plain": [
       "<Figure size 432x288 with 2 Axes>"
      ]
     },
     "metadata": {},
     "output_type": "display_data"
    }
   ],
   "source": [
    "#missing data points\n",
    "#Null values not stored by Nan, but instead have a different representation for missing values\n",
    "\n",
    "sns.heatmap(df.isnull()).set(title = 'Missing Data', xlabel = 'Columns', ylabel = 'Data Points')"
   ]
  },
  {
   "cell_type": "code",
   "execution_count": 10,
   "id": "e0094c33",
   "metadata": {},
   "outputs": [
    {
     "name": "stdout",
     "output_type": "stream",
     "text": [
      "['encounter_id', 'patient_nbr', 'race', 'gender', 'age', 'weight', 'admission_type_id', 'discharge_disposition_id', 'admission_source_id', 'time_in_hospital', 'payer_code', 'medical_specialty', 'num_lab_procedures', 'num_procedures', 'num_medications', 'number_outpatient', 'number_emergency', 'number_inpatient', 'diag_1', 'diag_2', 'diag_3', 'number_diagnoses', 'max_glu_serum', 'A1Cresult', 'metformin', 'repaglinide', 'nateglinide', 'chlorpropamide', 'glimepiride', 'acetohexamide', 'glipizide', 'glyburide', 'tolbutamide', 'pioglitazone', 'rosiglitazone', 'acarbose', 'miglitol', 'troglitazone', 'tolazamide', 'examide', 'citoglipton', 'insulin', 'glyburide.metformin', 'glipizide.metformin', 'glimepiride.pioglitazone', 'metformin.rosiglitazone', 'metformin.pioglitazone', 'change', 'diabetesMed', 'readmitted']\n"
     ]
    }
   ],
   "source": [
    "#names of all features\n",
    "print(list(df))"
   ]
  },
  {
   "cell_type": "code",
   "execution_count": 11,
   "id": "fd4bc8cf",
   "metadata": {},
   "outputs": [
    {
     "data": {
      "text/plain": [
       "88785891     40\n",
       "43140906     28\n",
       "1660293      23\n",
       "88227540     23\n",
       "23199021     23\n",
       "             ..\n",
       "11005362      1\n",
       "98252496      1\n",
       "1019673       1\n",
       "13396320      1\n",
       "175429310     1\n",
       "Name: patient_nbr, Length: 71518, dtype: int64"
      ]
     },
     "execution_count": 11,
     "metadata": {},
     "output_type": "execute_result"
    }
   ],
   "source": [
    "#Remove duplicate data points\n",
    "\n",
    "#df.groupby(['patient_nbr']).count()\n",
    "df['patient_nbr'].value_counts()"
   ]
  },
  {
   "cell_type": "code",
   "execution_count": 12,
   "id": "bb2be1a9",
   "metadata": {},
   "outputs": [],
   "source": [
    "df = df.drop_duplicates(subset=['patient_nbr'])"
   ]
  },
  {
   "cell_type": "code",
   "execution_count": 13,
   "id": "df1785af",
   "metadata": {},
   "outputs": [
    {
     "name": "stdout",
     "output_type": "stream",
     "text": [
      "<class 'pandas.core.frame.DataFrame'>\n",
      "Int64Index: 71518 entries, 1 to 101766\n",
      "Data columns (total 50 columns):\n",
      " #   Column                    Non-Null Count  Dtype \n",
      "---  ------                    --------------  ----- \n",
      " 0   encounter_id              71518 non-null  int64 \n",
      " 1   patient_nbr               71518 non-null  int64 \n",
      " 2   race                      71518 non-null  object\n",
      " 3   gender                    71518 non-null  object\n",
      " 4   age                       71518 non-null  object\n",
      " 5   weight                    71518 non-null  object\n",
      " 6   admission_type_id         71518 non-null  int64 \n",
      " 7   discharge_disposition_id  71518 non-null  int64 \n",
      " 8   admission_source_id       71518 non-null  int64 \n",
      " 9   time_in_hospital          71518 non-null  int64 \n",
      " 10  payer_code                71518 non-null  object\n",
      " 11  medical_specialty         71518 non-null  object\n",
      " 12  num_lab_procedures        71518 non-null  int64 \n",
      " 13  num_procedures            71518 non-null  int64 \n",
      " 14  num_medications           71518 non-null  int64 \n",
      " 15  number_outpatient         71518 non-null  int64 \n",
      " 16  number_emergency          71518 non-null  int64 \n",
      " 17  number_inpatient          71518 non-null  int64 \n",
      " 18  diag_1                    71518 non-null  object\n",
      " 19  diag_2                    71518 non-null  object\n",
      " 20  diag_3                    71518 non-null  object\n",
      " 21  number_diagnoses          71518 non-null  int64 \n",
      " 22  max_glu_serum             71518 non-null  object\n",
      " 23  A1Cresult                 71518 non-null  object\n",
      " 24  metformin                 71518 non-null  object\n",
      " 25  repaglinide               71518 non-null  object\n",
      " 26  nateglinide               71518 non-null  object\n",
      " 27  chlorpropamide            71518 non-null  object\n",
      " 28  glimepiride               71518 non-null  object\n",
      " 29  acetohexamide             71518 non-null  object\n",
      " 30  glipizide                 71518 non-null  object\n",
      " 31  glyburide                 71518 non-null  object\n",
      " 32  tolbutamide               71518 non-null  object\n",
      " 33  pioglitazone              71518 non-null  object\n",
      " 34  rosiglitazone             71518 non-null  object\n",
      " 35  acarbose                  71518 non-null  object\n",
      " 36  miglitol                  71518 non-null  object\n",
      " 37  troglitazone              71518 non-null  object\n",
      " 38  tolazamide                71518 non-null  object\n",
      " 39  examide                   71518 non-null  object\n",
      " 40  citoglipton               71518 non-null  object\n",
      " 41  insulin                   71518 non-null  object\n",
      " 42  glyburide.metformin       71518 non-null  object\n",
      " 43  glipizide.metformin       71518 non-null  object\n",
      " 44  glimepiride.pioglitazone  71518 non-null  object\n",
      " 45  metformin.rosiglitazone   71518 non-null  object\n",
      " 46  metformin.pioglitazone    71518 non-null  object\n",
      " 47  change                    71518 non-null  object\n",
      " 48  diabetesMed               71518 non-null  object\n",
      " 49  readmitted                71518 non-null  object\n",
      "dtypes: int64(13), object(37)\n",
      "memory usage: 27.8+ MB\n"
     ]
    }
   ],
   "source": [
    "df.info()"
   ]
  },
  {
   "cell_type": "markdown",
   "id": "8565db50",
   "metadata": {},
   "source": [
    "Unique values- 71518"
   ]
  },
  {
   "cell_type": "code",
   "execution_count": 16,
   "id": "20cf7be7",
   "metadata": {},
   "outputs": [],
   "source": [
    "features_drop_list = ['encounter_id', 'patient_nbr', 'weight', 'payer_code', 'medical_specialty', 'repaglinide', 'nateglinide', 'chlorpropamide', 'acarbose', 'miglitol', 'troglitazone', 'tolazamide', 'examide', 'citoglipton', 'glyburide.metformin', 'glipizide.metformin', 'glimepiride.pioglitazone', 'metformin.rosiglitazone','metformin.pioglitazone', 'acetohexamide', 'tolbutamide']\n"
   ]
  },
  {
   "cell_type": "code",
   "execution_count": 17,
   "id": "4bed9ee5",
   "metadata": {},
   "outputs": [
    {
     "name": "stderr",
     "output_type": "stream",
     "text": [
      "/opt/anaconda3/lib/python3.9/site-packages/pandas/core/frame.py:4906: SettingWithCopyWarning: \n",
      "A value is trying to be set on a copy of a slice from a DataFrame\n",
      "\n",
      "See the caveats in the documentation: https://pandas.pydata.org/pandas-docs/stable/user_guide/indexing.html#returning-a-view-versus-a-copy\n",
      "  return super().drop(\n"
     ]
    }
   ],
   "source": [
    "df.drop(features_drop_list, axis=1,inplace=True)\n"
   ]
  },
  {
   "cell_type": "code",
   "execution_count": 18,
   "id": "c40b7780",
   "metadata": {},
   "outputs": [
    {
     "name": "stdout",
     "output_type": "stream",
     "text": [
      "<class 'pandas.core.frame.DataFrame'>\n",
      "Int64Index: 71518 entries, 1 to 101766\n",
      "Data columns (total 29 columns):\n",
      " #   Column                    Non-Null Count  Dtype \n",
      "---  ------                    --------------  ----- \n",
      " 0   race                      71518 non-null  object\n",
      " 1   gender                    71518 non-null  object\n",
      " 2   age                       71518 non-null  object\n",
      " 3   admission_type_id         71518 non-null  int64 \n",
      " 4   discharge_disposition_id  71518 non-null  int64 \n",
      " 5   admission_source_id       71518 non-null  int64 \n",
      " 6   time_in_hospital          71518 non-null  int64 \n",
      " 7   num_lab_procedures        71518 non-null  int64 \n",
      " 8   num_procedures            71518 non-null  int64 \n",
      " 9   num_medications           71518 non-null  int64 \n",
      " 10  number_outpatient         71518 non-null  int64 \n",
      " 11  number_emergency          71518 non-null  int64 \n",
      " 12  number_inpatient          71518 non-null  int64 \n",
      " 13  diag_1                    71518 non-null  object\n",
      " 14  diag_2                    71518 non-null  object\n",
      " 15  diag_3                    71518 non-null  object\n",
      " 16  number_diagnoses          71518 non-null  int64 \n",
      " 17  max_glu_serum             71518 non-null  object\n",
      " 18  A1Cresult                 71518 non-null  object\n",
      " 19  metformin                 71518 non-null  object\n",
      " 20  glimepiride               71518 non-null  object\n",
      " 21  glipizide                 71518 non-null  object\n",
      " 22  glyburide                 71518 non-null  object\n",
      " 23  pioglitazone              71518 non-null  object\n",
      " 24  rosiglitazone             71518 non-null  object\n",
      " 25  insulin                   71518 non-null  object\n",
      " 26  change                    71518 non-null  object\n",
      " 27  diabetesMed               71518 non-null  object\n",
      " 28  readmitted                71518 non-null  object\n",
      "dtypes: int64(11), object(18)\n",
      "memory usage: 16.4+ MB\n"
     ]
    }
   ],
   "source": [
    "df.info()\n"
   ]
  },
  {
   "cell_type": "code",
   "execution_count": 19,
   "id": "7d14cb6e",
   "metadata": {},
   "outputs": [
    {
     "name": "stderr",
     "output_type": "stream",
     "text": [
      "/opt/anaconda3/lib/python3.9/site-packages/pandas/core/indexing.py:1817: SettingWithCopyWarning: \n",
      "A value is trying to be set on a copy of a slice from a DataFrame.\n",
      "Try using .loc[row_indexer,col_indexer] = value instead\n",
      "\n",
      "See the caveats in the documentation: https://pandas.pydata.org/pandas-docs/stable/user_guide/indexing.html#returning-a-view-versus-a-copy\n",
      "  self._setitem_single_column(loc, value, pi)\n",
      "/var/folders/q1/_ty3whwx34q98jzpxnjtd2pr0000gn/T/ipykernel_23243/3328738651.py:10: SettingWithCopyWarning: \n",
      "A value is trying to be set on a copy of a slice from a DataFrame.\n",
      "Try using .loc[row_indexer,col_indexer] = value instead\n",
      "\n",
      "See the caveats in the documentation: https://pandas.pydata.org/pandas-docs/stable/user_guide/indexing.html#returning-a-view-versus-a-copy\n",
      "  df['diag_1'] = df['diag_1'].replace('?', -1)\n",
      "/var/folders/q1/_ty3whwx34q98jzpxnjtd2pr0000gn/T/ipykernel_23243/3328738651.py:11: SettingWithCopyWarning: \n",
      "A value is trying to be set on a copy of a slice from a DataFrame.\n",
      "Try using .loc[row_indexer,col_indexer] = value instead\n",
      "\n",
      "See the caveats in the documentation: https://pandas.pydata.org/pandas-docs/stable/user_guide/indexing.html#returning-a-view-versus-a-copy\n",
      "  df['diag_2'] = df['diag_2'].replace('?', -1)\n",
      "/var/folders/q1/_ty3whwx34q98jzpxnjtd2pr0000gn/T/ipykernel_23243/3328738651.py:12: SettingWithCopyWarning: \n",
      "A value is trying to be set on a copy of a slice from a DataFrame.\n",
      "Try using .loc[row_indexer,col_indexer] = value instead\n",
      "\n",
      "See the caveats in the documentation: https://pandas.pydata.org/pandas-docs/stable/user_guide/indexing.html#returning-a-view-versus-a-copy\n",
      "  df['diag_3'] = df['diag_3'].replace('?', -1)\n",
      "/var/folders/q1/_ty3whwx34q98jzpxnjtd2pr0000gn/T/ipykernel_23243/3328738651.py:15: SettingWithCopyWarning: \n",
      "A value is trying to be set on a copy of a slice from a DataFrame.\n",
      "Try using .loc[row_indexer,col_indexer] = value instead\n",
      "\n",
      "See the caveats in the documentation: https://pandas.pydata.org/pandas-docs/stable/user_guide/indexing.html#returning-a-view-versus-a-copy\n",
      "  df['diag_1'] = df['diag_1'].astype(float)\n",
      "/var/folders/q1/_ty3whwx34q98jzpxnjtd2pr0000gn/T/ipykernel_23243/3328738651.py:16: SettingWithCopyWarning: \n",
      "A value is trying to be set on a copy of a slice from a DataFrame.\n",
      "Try using .loc[row_indexer,col_indexer] = value instead\n",
      "\n",
      "See the caveats in the documentation: https://pandas.pydata.org/pandas-docs/stable/user_guide/indexing.html#returning-a-view-versus-a-copy\n",
      "  df['diag_2'] = df['diag_2'].astype(float)\n",
      "/var/folders/q1/_ty3whwx34q98jzpxnjtd2pr0000gn/T/ipykernel_23243/3328738651.py:17: SettingWithCopyWarning: \n",
      "A value is trying to be set on a copy of a slice from a DataFrame.\n",
      "Try using .loc[row_indexer,col_indexer] = value instead\n",
      "\n",
      "See the caveats in the documentation: https://pandas.pydata.org/pandas-docs/stable/user_guide/indexing.html#returning-a-view-versus-a-copy\n",
      "  df['diag_3'] = df['diag_3'].astype(float)\n"
     ]
    }
   ],
   "source": [
    "#start by setting all values containing E or V into 0 (as one category)\n",
    "df.loc[df['diag_1'].str.contains('V',na=False,case=False), 'diag_1'] = 0\n",
    "df.loc[df['diag_1'].str.contains('E',na=False,case=False), 'diag_1'] = 0\n",
    "df.loc[df['diag_2'].str.contains('V',na=False,case=False), 'diag_2'] = 0\n",
    "df.loc[df['diag_2'].str.contains('E',na=False,case=False), 'diag_2'] = 0\n",
    "df.loc[df['diag_3'].str.contains('V',na=False,case=False), 'diag_3'] = 0\n",
    "df.loc[df['diag_3'].str.contains('E',na=False,case=False), 'diag_3'] = 0\n",
    "\n",
    "#setting all missing values into -1\n",
    "df['diag_1'] = df['diag_1'].replace('?', -1)\n",
    "df['diag_2'] = df['diag_2'].replace('?', -1)\n",
    "df['diag_3'] = df['diag_3'].replace('?', -1)\n",
    "\n",
    "#No all diag values can be converted into numeric values\n",
    "df['diag_1'] = df['diag_1'].astype(float)\n",
    "df['diag_2'] = df['diag_2'].astype(float)\n",
    "df['diag_3'] = df['diag_3'].astype(float)"
   ]
  },
  {
   "cell_type": "code",
   "execution_count": 20,
   "id": "7446ed04",
   "metadata": {},
   "outputs": [
    {
     "name": "stderr",
     "output_type": "stream",
     "text": [
      "/opt/anaconda3/lib/python3.9/site-packages/pandas/core/indexing.py:1732: SettingWithCopyWarning: \n",
      "A value is trying to be set on a copy of a slice from a DataFrame\n",
      "\n",
      "See the caveats in the documentation: https://pandas.pydata.org/pandas-docs/stable/user_guide/indexing.html#returning-a-view-versus-a-copy\n",
      "  self._setitem_single_block(indexer, value, name)\n"
     ]
    }
   ],
   "source": [
    "#Now we will reduce the number of categories in diag features according to ICD-9 code\n",
    "#(Missing values will be grouped as E & V values)\n",
    "df['diag_1'].loc[(df['diag_1']>=1) & (df['diag_1']< 140)] = 1\n",
    "df['diag_1'].loc[(df['diag_1']>=140) & (df['diag_1']< 240)] = 2\n",
    "df['diag_1'].loc[(df['diag_1']>=240) & (df['diag_1']< 280)] = 3\n",
    "df['diag_1'].loc[(df['diag_1']>=280) & (df['diag_1']< 290)] = 4\n",
    "df['diag_1'].loc[(df['diag_1']>=290) & (df['diag_1']< 320)] = 5\n",
    "df['diag_1'].loc[(df['diag_1']>=320) & (df['diag_1']< 390)] = 6\n",
    "df['diag_1'].loc[(df['diag_1']>=390) & (df['diag_1']< 460)] = 7\n",
    "df['diag_1'].loc[(df['diag_1']>=460) & (df['diag_1']< 520)] = 8\n",
    "df['diag_1'].loc[(df['diag_1']>=520) & (df['diag_1']< 580)] = 9\n",
    "df['diag_1'].loc[(df['diag_1']>=580) & (df['diag_1']< 630)] = 10\n",
    "df['diag_1'].loc[(df['diag_1']>=630) & (df['diag_1']< 680)] = 11\n",
    "df['diag_1'].loc[(df['diag_1']>=680) & (df['diag_1']< 710)] = 12\n",
    "df['diag_1'].loc[(df['diag_1']>=710) & (df['diag_1']< 740)] = 13\n",
    "df['diag_1'].loc[(df['diag_1']>=740) & (df['diag_1']< 760)] = 14\n",
    "df['diag_1'].loc[(df['diag_1']>=760) & (df['diag_1']< 780)] = 15\n",
    "df['diag_1'].loc[(df['diag_1']>=780) & (df['diag_1']< 800)] = 16\n",
    "df['diag_1'].loc[(df['diag_1']>=800) & (df['diag_1']< 1000)] = 17\n",
    "df['diag_1'].loc[(df['diag_1']==-1)] = 0\n",
    "\n",
    "df['diag_2'].loc[(df['diag_2']>=1) & (df['diag_2']< 140)] = 1\n",
    "df['diag_2'].loc[(df['diag_2']>=140) & (df['diag_2']< 240)] = 2\n",
    "df['diag_2'].loc[(df['diag_2']>=240) & (df['diag_2']< 280)] = 3\n",
    "df['diag_2'].loc[(df['diag_2']>=280) & (df['diag_2']< 290)] = 4\n",
    "df['diag_2'].loc[(df['diag_2']>=290) & (df['diag_2']< 320)] = 5\n",
    "df['diag_2'].loc[(df['diag_2']>=320) & (df['diag_2']< 390)] = 6\n",
    "df['diag_2'].loc[(df['diag_2']>=390) & (df['diag_2']< 460)] = 7\n",
    "df['diag_2'].loc[(df['diag_2']>=460) & (df['diag_2']< 520)] = 8\n",
    "df['diag_2'].loc[(df['diag_2']>=520) & (df['diag_2']< 580)] = 9\n",
    "df['diag_2'].loc[(df['diag_2']>=580) & (df['diag_2']< 630)] = 10\n",
    "df['diag_2'].loc[(df['diag_2']>=630) & (df['diag_2']< 680)] = 11\n",
    "df['diag_2'].loc[(df['diag_2']>=680) & (df['diag_2']< 710)] = 12\n",
    "df['diag_2'].loc[(df['diag_2']>=710) & (df['diag_2']< 740)] = 13\n",
    "df['diag_2'].loc[(df['diag_2']>=740) & (df['diag_2']< 760)] = 14\n",
    "df['diag_2'].loc[(df['diag_2']>=760) & (df['diag_2']< 780)] = 15\n",
    "df['diag_2'].loc[(df['diag_2']>=780) & (df['diag_2']< 800)] = 16\n",
    "df['diag_2'].loc[(df['diag_2']>=800) & (df['diag_2']< 1000)] = 17\n",
    "df['diag_2'].loc[(df['diag_2']==-1)] = 0\n",
    "\n",
    "df['diag_3'].loc[(df['diag_3']>=1) & (df['diag_3']< 140)] = 1\n",
    "df['diag_3'].loc[(df['diag_3']>=140) & (df['diag_3']< 240)] = 2\n",
    "df['diag_3'].loc[(df['diag_3']>=240) & (df['diag_3']< 280)] = 3\n",
    "df['diag_3'].loc[(df['diag_3']>=280) & (df['diag_3']< 290)] = 4\n",
    "df['diag_3'].loc[(df['diag_3']>=290) & (df['diag_3']< 320)] = 5\n",
    "df['diag_3'].loc[(df['diag_3']>=320) & (df['diag_3']< 390)] = 6\n",
    "df['diag_3'].loc[(df['diag_3']>=390) & (df['diag_3']< 460)] = 7\n",
    "df['diag_3'].loc[(df['diag_3']>=460) & (df['diag_3']< 520)] = 8\n",
    "df['diag_3'].loc[(df['diag_3']>=520) & (df['diag_3']< 580)] = 9\n",
    "df['diag_3'].loc[(df['diag_3']>=580) & (df['diag_3']< 630)] = 10\n",
    "df['diag_3'].loc[(df['diag_3']>=630) & (df['diag_3']< 680)] = 11\n",
    "df['diag_3'].loc[(df['diag_3']>=680) & (df['diag_3']< 710)] = 12\n",
    "df['diag_3'].loc[(df['diag_3']>=710) & (df['diag_3']< 740)] = 13\n",
    "df['diag_3'].loc[(df['diag_3']>=740) & (df['diag_3']< 760)] = 14\n",
    "df['diag_3'].loc[(df['diag_3']>=760) & (df['diag_3']< 780)] = 15\n",
    "df['diag_3'].loc[(df['diag_3']>=780) & (df['diag_3']< 800)] = 16\n",
    "df['diag_3'].loc[(df['diag_3']>=800) & (df['diag_3']< 1000)] = 17\n",
    "df['diag_3'].loc[(df['diag_3']==-1)] = 0"
   ]
  },
  {
   "cell_type": "code",
   "execution_count": 21,
   "id": "42789f29",
   "metadata": {},
   "outputs": [
    {
     "data": {
      "text/plain": [
       "array([ 3., 11.,  1.,  2.,  7.,  8., 17., 12., 13.,  9.,  0., 16., 10.,\n",
       "        5.,  6.,  4., 14.])"
      ]
     },
     "execution_count": 21,
     "metadata": {},
     "output_type": "execute_result"
    }
   ],
   "source": [
    "#check the results\n",
    "df.diag_1.unique()"
   ]
  },
  {
   "cell_type": "code",
   "execution_count": 22,
   "id": "90e7406a",
   "metadata": {},
   "outputs": [
    {
     "name": "stderr",
     "output_type": "stream",
     "text": [
      "/var/folders/q1/_ty3whwx34q98jzpxnjtd2pr0000gn/T/ipykernel_23243/675211806.py:1: SettingWithCopyWarning: \n",
      "A value is trying to be set on a copy of a slice from a DataFrame.\n",
      "Try using .loc[row_indexer,col_indexer] = value instead\n",
      "\n",
      "See the caveats in the documentation: https://pandas.pydata.org/pandas-docs/stable/user_guide/indexing.html#returning-a-view-versus-a-copy\n",
      "  df['race'] = df['race'].replace('?', 'Other')\n"
     ]
    }
   ],
   "source": [
    "df['race'] = df['race'].replace('?', 'Other')"
   ]
  },
  {
   "cell_type": "code",
   "execution_count": 23,
   "id": "e08e38be",
   "metadata": {},
   "outputs": [
    {
     "data": {
      "text/plain": [
       "Caucasian          53491\n",
       "AfricanAmerican    12887\n",
       "Other               3126\n",
       "Hispanic            1517\n",
       "Asian                497\n",
       "Name: race, dtype: int64"
      ]
     },
     "execution_count": 23,
     "metadata": {},
     "output_type": "execute_result"
    }
   ],
   "source": [
    "df.race.value_counts()"
   ]
  },
  {
   "cell_type": "code",
   "execution_count": 24,
   "id": "dff5d61d",
   "metadata": {},
   "outputs": [
    {
     "data": {
      "text/plain": [
       "Female             38025\n",
       "Male               33490\n",
       "Unknown/Invalid        3\n",
       "Name: gender, dtype: int64"
      ]
     },
     "execution_count": 24,
     "metadata": {},
     "output_type": "execute_result"
    }
   ],
   "source": [
    "df.gender.value_counts()"
   ]
  },
  {
   "cell_type": "code",
   "execution_count": 25,
   "id": "e5e42a7f",
   "metadata": {},
   "outputs": [
    {
     "data": {
      "text/plain": [
       "[70-80)     18210\n",
       "[60-70)     15960\n",
       "[50-60)     12466\n",
       "[80-90)     11589\n",
       "[40-50)      6878\n",
       "[30-40)      2699\n",
       "[90-100)     1900\n",
       "[20-30)      1127\n",
       "[10-20)       535\n",
       "[0-10)        154\n",
       "Name: age, dtype: int64"
      ]
     },
     "execution_count": 25,
     "metadata": {},
     "output_type": "execute_result"
    }
   ],
   "source": [
    "df.age.value_counts()"
   ]
  },
  {
   "cell_type": "code",
   "execution_count": 26,
   "id": "05ca722c",
   "metadata": {},
   "outputs": [
    {
     "name": "stderr",
     "output_type": "stream",
     "text": [
      "/var/folders/q1/_ty3whwx34q98jzpxnjtd2pr0000gn/T/ipykernel_23243/3737133605.py:2: SettingWithCopyWarning: \n",
      "A value is trying to be set on a copy of a slice from a DataFrame.\n",
      "Try using .loc[row_indexer,col_indexer] = value instead\n",
      "\n",
      "See the caveats in the documentation: https://pandas.pydata.org/pandas-docs/stable/user_guide/indexing.html#returning-a-view-versus-a-copy\n",
      "  df['age'] = df['age'].replace('['+str(10*i)+'-'+str(10*(i+1))+')', i*10+5)\n"
     ]
    },
    {
     "data": {
      "text/plain": [
       "75    18210\n",
       "65    15960\n",
       "55    12466\n",
       "85    11589\n",
       "45     6878\n",
       "35     2699\n",
       "95     1900\n",
       "25     1127\n",
       "15      535\n",
       "5       154\n",
       "Name: age, dtype: int64"
      ]
     },
     "execution_count": 26,
     "metadata": {},
     "output_type": "execute_result"
    }
   ],
   "source": [
    "for i in range(0,10):\n",
    "    df['age'] = df['age'].replace('['+str(10*i)+'-'+str(10*(i+1))+')', i*10+5)\n",
    "df['age'].value_counts()"
   ]
  },
  {
   "cell_type": "code",
   "execution_count": 27,
   "id": "211e5482",
   "metadata": {},
   "outputs": [
    {
     "data": {
      "text/plain": [
       "None    68062\n",
       "Norm     1731\n",
       ">200      969\n",
       ">300      756\n",
       "Name: max_glu_serum, dtype: int64"
      ]
     },
     "execution_count": 27,
     "metadata": {},
     "output_type": "execute_result"
    }
   ],
   "source": [
    "df.max_glu_serum.value_counts()"
   ]
  },
  {
   "cell_type": "code",
   "execution_count": 28,
   "id": "2d6f80db",
   "metadata": {},
   "outputs": [
    {
     "name": "stderr",
     "output_type": "stream",
     "text": [
      "/var/folders/q1/_ty3whwx34q98jzpxnjtd2pr0000gn/T/ipykernel_23243/3494085451.py:1: SettingWithCopyWarning: \n",
      "A value is trying to be set on a copy of a slice from a DataFrame.\n",
      "Try using .loc[row_indexer,col_indexer] = value instead\n",
      "\n",
      "See the caveats in the documentation: https://pandas.pydata.org/pandas-docs/stable/user_guide/indexing.html#returning-a-view-versus-a-copy\n",
      "  df['max_glu_serum']=df['max_glu_serum'].replace(\"None\", 0)\n",
      "/var/folders/q1/_ty3whwx34q98jzpxnjtd2pr0000gn/T/ipykernel_23243/3494085451.py:2: SettingWithCopyWarning: \n",
      "A value is trying to be set on a copy of a slice from a DataFrame.\n",
      "Try using .loc[row_indexer,col_indexer] = value instead\n",
      "\n",
      "See the caveats in the documentation: https://pandas.pydata.org/pandas-docs/stable/user_guide/indexing.html#returning-a-view-versus-a-copy\n",
      "  df['max_glu_serum']=df['max_glu_serum'].replace(\"Norm\", 1)\n",
      "/var/folders/q1/_ty3whwx34q98jzpxnjtd2pr0000gn/T/ipykernel_23243/3494085451.py:3: SettingWithCopyWarning: \n",
      "A value is trying to be set on a copy of a slice from a DataFrame.\n",
      "Try using .loc[row_indexer,col_indexer] = value instead\n",
      "\n",
      "See the caveats in the documentation: https://pandas.pydata.org/pandas-docs/stable/user_guide/indexing.html#returning-a-view-versus-a-copy\n",
      "  df['max_glu_serum']=df['max_glu_serum'].replace(\">200\", 2)\n",
      "/var/folders/q1/_ty3whwx34q98jzpxnjtd2pr0000gn/T/ipykernel_23243/3494085451.py:4: SettingWithCopyWarning: \n",
      "A value is trying to be set on a copy of a slice from a DataFrame.\n",
      "Try using .loc[row_indexer,col_indexer] = value instead\n",
      "\n",
      "See the caveats in the documentation: https://pandas.pydata.org/pandas-docs/stable/user_guide/indexing.html#returning-a-view-versus-a-copy\n",
      "  df['max_glu_serum']=df['max_glu_serum'].replace(\">300\", 3)\n"
     ]
    },
    {
     "data": {
      "text/plain": [
       "0    68062\n",
       "1     1731\n",
       "2      969\n",
       "3      756\n",
       "Name: max_glu_serum, dtype: int64"
      ]
     },
     "execution_count": 28,
     "metadata": {},
     "output_type": "execute_result"
    }
   ],
   "source": [
    "df['max_glu_serum']=df['max_glu_serum'].replace(\"None\", 0)\n",
    "df['max_glu_serum']=df['max_glu_serum'].replace(\"Norm\", 1)\n",
    "df['max_glu_serum']=df['max_glu_serum'].replace(\">200\", 2)\n",
    "df['max_glu_serum']=df['max_glu_serum'].replace(\">300\", 3)\n",
    "df.max_glu_serum.value_counts()"
   ]
  },
  {
   "cell_type": "code",
   "execution_count": 29,
   "id": "f49506d5",
   "metadata": {},
   "outputs": [
    {
     "data": {
      "text/plain": [
       "None    58532\n",
       ">8       6304\n",
       "Norm     3791\n",
       ">7       2891\n",
       "Name: A1Cresult, dtype: int64"
      ]
     },
     "execution_count": 29,
     "metadata": {},
     "output_type": "execute_result"
    }
   ],
   "source": [
    "df.A1Cresult.value_counts()\n"
   ]
  },
  {
   "cell_type": "code",
   "execution_count": 30,
   "id": "7aaf7993",
   "metadata": {},
   "outputs": [
    {
     "name": "stderr",
     "output_type": "stream",
     "text": [
      "/var/folders/q1/_ty3whwx34q98jzpxnjtd2pr0000gn/T/ipykernel_23243/438831285.py:1: SettingWithCopyWarning: \n",
      "A value is trying to be set on a copy of a slice from a DataFrame.\n",
      "Try using .loc[row_indexer,col_indexer] = value instead\n",
      "\n",
      "See the caveats in the documentation: https://pandas.pydata.org/pandas-docs/stable/user_guide/indexing.html#returning-a-view-versus-a-copy\n",
      "  df['A1Cresult']=df['A1Cresult'].replace(\"None\", 0)\n",
      "/var/folders/q1/_ty3whwx34q98jzpxnjtd2pr0000gn/T/ipykernel_23243/438831285.py:2: SettingWithCopyWarning: \n",
      "A value is trying to be set on a copy of a slice from a DataFrame.\n",
      "Try using .loc[row_indexer,col_indexer] = value instead\n",
      "\n",
      "See the caveats in the documentation: https://pandas.pydata.org/pandas-docs/stable/user_guide/indexing.html#returning-a-view-versus-a-copy\n",
      "  df['A1Cresult']=df['A1Cresult'].replace(\"Norm\", 1)\n",
      "/var/folders/q1/_ty3whwx34q98jzpxnjtd2pr0000gn/T/ipykernel_23243/438831285.py:3: SettingWithCopyWarning: \n",
      "A value is trying to be set on a copy of a slice from a DataFrame.\n",
      "Try using .loc[row_indexer,col_indexer] = value instead\n",
      "\n",
      "See the caveats in the documentation: https://pandas.pydata.org/pandas-docs/stable/user_guide/indexing.html#returning-a-view-versus-a-copy\n",
      "  df['A1Cresult']=df['A1Cresult'].replace(\">7\", 2)\n",
      "/var/folders/q1/_ty3whwx34q98jzpxnjtd2pr0000gn/T/ipykernel_23243/438831285.py:4: SettingWithCopyWarning: \n",
      "A value is trying to be set on a copy of a slice from a DataFrame.\n",
      "Try using .loc[row_indexer,col_indexer] = value instead\n",
      "\n",
      "See the caveats in the documentation: https://pandas.pydata.org/pandas-docs/stable/user_guide/indexing.html#returning-a-view-versus-a-copy\n",
      "  df['A1Cresult']=df['A1Cresult'].replace(\">8\", 3)\n"
     ]
    }
   ],
   "source": [
    "df['A1Cresult']=df['A1Cresult'].replace(\"None\", 0)\n",
    "df['A1Cresult']=df['A1Cresult'].replace(\"Norm\", 1)\n",
    "df['A1Cresult']=df['A1Cresult'].replace(\">7\", 2)\n",
    "df['A1Cresult']=df['A1Cresult'].replace(\">8\", 3)"
   ]
  },
  {
   "cell_type": "code",
   "execution_count": 31,
   "id": "2166be8b",
   "metadata": {},
   "outputs": [
    {
     "data": {
      "text/plain": [
       "0    58532\n",
       "3     6304\n",
       "1     3791\n",
       "2     2891\n",
       "Name: A1Cresult, dtype: int64"
      ]
     },
     "execution_count": 31,
     "metadata": {},
     "output_type": "execute_result"
    }
   ],
   "source": [
    "df.A1Cresult.value_counts()"
   ]
  },
  {
   "cell_type": "code",
   "execution_count": 32,
   "id": "4f533c16",
   "metadata": {},
   "outputs": [
    {
     "data": {
      "text/plain": [
       "No        34921\n",
       "Steady    22129\n",
       "Down       7505\n",
       "Up         6963\n",
       "Name: insulin, dtype: int64"
      ]
     },
     "execution_count": 32,
     "metadata": {},
     "output_type": "execute_result"
    }
   ],
   "source": [
    "#df.metformin.value_counts()\n",
    "#df.glimepiride.value_counts()\n",
    "#df.glipizide.value_counts()\n",
    "#df.glyburide.value_counts()\n",
    "#df.pioglitazone.value_counts()\n",
    "#df.rosiglitazone.value_counts()\n",
    "df.insulin.value_counts()"
   ]
  },
  {
   "cell_type": "code",
   "execution_count": 33,
   "id": "79decf94",
   "metadata": {},
   "outputs": [
    {
     "name": "stderr",
     "output_type": "stream",
     "text": [
      "/var/folders/q1/_ty3whwx34q98jzpxnjtd2pr0000gn/T/ipykernel_23243/1513858272.py:3: SettingWithCopyWarning: \n",
      "A value is trying to be set on a copy of a slice from a DataFrame.\n",
      "Try using .loc[row_indexer,col_indexer] = value instead\n",
      "\n",
      "See the caveats in the documentation: https://pandas.pydata.org/pandas-docs/stable/user_guide/indexing.html#returning-a-view-versus-a-copy\n",
      "  df[i] = df[i].replace('No', 0)\n",
      "/var/folders/q1/_ty3whwx34q98jzpxnjtd2pr0000gn/T/ipykernel_23243/1513858272.py:4: SettingWithCopyWarning: \n",
      "A value is trying to be set on a copy of a slice from a DataFrame.\n",
      "Try using .loc[row_indexer,col_indexer] = value instead\n",
      "\n",
      "See the caveats in the documentation: https://pandas.pydata.org/pandas-docs/stable/user_guide/indexing.html#returning-a-view-versus-a-copy\n",
      "  df[i] = df[i].replace('Steady', 2)\n",
      "/var/folders/q1/_ty3whwx34q98jzpxnjtd2pr0000gn/T/ipykernel_23243/1513858272.py:5: SettingWithCopyWarning: \n",
      "A value is trying to be set on a copy of a slice from a DataFrame.\n",
      "Try using .loc[row_indexer,col_indexer] = value instead\n",
      "\n",
      "See the caveats in the documentation: https://pandas.pydata.org/pandas-docs/stable/user_guide/indexing.html#returning-a-view-versus-a-copy\n",
      "  df[i] = df[i].replace('Down', 1)\n",
      "/var/folders/q1/_ty3whwx34q98jzpxnjtd2pr0000gn/T/ipykernel_23243/1513858272.py:6: SettingWithCopyWarning: \n",
      "A value is trying to be set on a copy of a slice from a DataFrame.\n",
      "Try using .loc[row_indexer,col_indexer] = value instead\n",
      "\n",
      "See the caveats in the documentation: https://pandas.pydata.org/pandas-docs/stable/user_guide/indexing.html#returning-a-view-versus-a-copy\n",
      "  df[i] = df[i].replace('Up', 3)\n"
     ]
    }
   ],
   "source": [
    "drug_list = ['metformin', 'glimepiride', 'glipizide', 'glyburide', 'pioglitazone', 'rosiglitazone', 'insulin']\n",
    "for i in drug_list:\n",
    "    df[i] = df[i].replace('No', 0)\n",
    "    df[i] = df[i].replace('Steady', 2)\n",
    "    df[i] = df[i].replace('Down', 1)\n",
    "    df[i] = df[i].replace('Up', 3)"
   ]
  },
  {
   "cell_type": "code",
   "execution_count": 34,
   "id": "28e57318",
   "metadata": {},
   "outputs": [
    {
     "data": {
      "text/plain": [
       "0    34921\n",
       "2    22129\n",
       "1     7505\n",
       "3     6963\n",
       "Name: insulin, dtype: int64"
      ]
     },
     "execution_count": 34,
     "metadata": {},
     "output_type": "execute_result"
    }
   ],
   "source": [
    "#df.metformin.value_counts()\n",
    "#df.glimepiride.value_counts()\n",
    "#df.glipizide.value_counts()\n",
    "#df.glyburide.value_counts()\n",
    "#df.pioglitazone.value_counts()\n",
    "#df.rosiglitazone.value_counts()\n",
    "df.insulin.value_counts()"
   ]
  },
  {
   "cell_type": "code",
   "execution_count": 35,
   "id": "543393e6",
   "metadata": {},
   "outputs": [
    {
     "data": {
      "text/plain": [
       "No    39494\n",
       "Ch    32024\n",
       "Name: change, dtype: int64"
      ]
     },
     "execution_count": 35,
     "metadata": {},
     "output_type": "execute_result"
    }
   ],
   "source": [
    "df.change.value_counts()"
   ]
  },
  {
   "cell_type": "code",
   "execution_count": 36,
   "id": "9a78a178",
   "metadata": {},
   "outputs": [
    {
     "name": "stderr",
     "output_type": "stream",
     "text": [
      "/var/folders/q1/_ty3whwx34q98jzpxnjtd2pr0000gn/T/ipykernel_23243/746731630.py:1: SettingWithCopyWarning: \n",
      "A value is trying to be set on a copy of a slice from a DataFrame.\n",
      "Try using .loc[row_indexer,col_indexer] = value instead\n",
      "\n",
      "See the caveats in the documentation: https://pandas.pydata.org/pandas-docs/stable/user_guide/indexing.html#returning-a-view-versus-a-copy\n",
      "  df['change']=df['change'].replace('No', 0)\n",
      "/var/folders/q1/_ty3whwx34q98jzpxnjtd2pr0000gn/T/ipykernel_23243/746731630.py:2: SettingWithCopyWarning: \n",
      "A value is trying to be set on a copy of a slice from a DataFrame.\n",
      "Try using .loc[row_indexer,col_indexer] = value instead\n",
      "\n",
      "See the caveats in the documentation: https://pandas.pydata.org/pandas-docs/stable/user_guide/indexing.html#returning-a-view-versus-a-copy\n",
      "  df['change']=df['change'].replace('Ch', 1)\n"
     ]
    },
    {
     "data": {
      "text/plain": [
       "0    39494\n",
       "1    32024\n",
       "Name: change, dtype: int64"
      ]
     },
     "execution_count": 36,
     "metadata": {},
     "output_type": "execute_result"
    }
   ],
   "source": [
    "df['change']=df['change'].replace('No', 0)\n",
    "df['change']=df['change'].replace('Ch', 1)\n",
    "df.change.value_counts()"
   ]
  },
  {
   "cell_type": "code",
   "execution_count": 37,
   "id": "cc63d879",
   "metadata": {},
   "outputs": [
    {
     "data": {
      "text/plain": [
       "Yes    54319\n",
       "No     17199\n",
       "Name: diabetesMed, dtype: int64"
      ]
     },
     "execution_count": 37,
     "metadata": {},
     "output_type": "execute_result"
    }
   ],
   "source": [
    "df.diabetesMed.value_counts()"
   ]
  },
  {
   "cell_type": "code",
   "execution_count": 38,
   "id": "5ed82a4c",
   "metadata": {},
   "outputs": [
    {
     "name": "stderr",
     "output_type": "stream",
     "text": [
      "/var/folders/q1/_ty3whwx34q98jzpxnjtd2pr0000gn/T/ipykernel_23243/1214750202.py:1: SettingWithCopyWarning: \n",
      "A value is trying to be set on a copy of a slice from a DataFrame.\n",
      "Try using .loc[row_indexer,col_indexer] = value instead\n",
      "\n",
      "See the caveats in the documentation: https://pandas.pydata.org/pandas-docs/stable/user_guide/indexing.html#returning-a-view-versus-a-copy\n",
      "  df['diabetesMed']=df['diabetesMed'].replace('Yes', 1)\n",
      "/var/folders/q1/_ty3whwx34q98jzpxnjtd2pr0000gn/T/ipykernel_23243/1214750202.py:2: SettingWithCopyWarning: \n",
      "A value is trying to be set on a copy of a slice from a DataFrame.\n",
      "Try using .loc[row_indexer,col_indexer] = value instead\n",
      "\n",
      "See the caveats in the documentation: https://pandas.pydata.org/pandas-docs/stable/user_guide/indexing.html#returning-a-view-versus-a-copy\n",
      "  df['diabetesMed']=df['diabetesMed'].replace('No', 0)\n"
     ]
    },
    {
     "data": {
      "text/plain": [
       "1    54319\n",
       "0    17199\n",
       "Name: diabetesMed, dtype: int64"
      ]
     },
     "execution_count": 38,
     "metadata": {},
     "output_type": "execute_result"
    }
   ],
   "source": [
    "df['diabetesMed']=df['diabetesMed'].replace('Yes', 1)\n",
    "df['diabetesMed']=df['diabetesMed'].replace('No', 0)\n",
    "df.diabetesMed.value_counts()"
   ]
  },
  {
   "cell_type": "code",
   "execution_count": 39,
   "id": "c5466354",
   "metadata": {},
   "outputs": [
    {
     "data": {
      "text/plain": [
       "NO     42985\n",
       ">30    22240\n",
       "<30     6293\n",
       "Name: readmitted, dtype: int64"
      ]
     },
     "execution_count": 39,
     "metadata": {},
     "output_type": "execute_result"
    }
   ],
   "source": [
    "df.readmitted.value_counts()"
   ]
  },
  {
   "cell_type": "code",
   "execution_count": 40,
   "id": "1dc6eaf4",
   "metadata": {},
   "outputs": [
    {
     "name": "stderr",
     "output_type": "stream",
     "text": [
      "/var/folders/q1/_ty3whwx34q98jzpxnjtd2pr0000gn/T/ipykernel_23243/3724688615.py:1: SettingWithCopyWarning: \n",
      "A value is trying to be set on a copy of a slice from a DataFrame.\n",
      "Try using .loc[row_indexer,col_indexer] = value instead\n",
      "\n",
      "See the caveats in the documentation: https://pandas.pydata.org/pandas-docs/stable/user_guide/indexing.html#returning-a-view-versus-a-copy\n",
      "  df['readmitted']=df['readmitted'].replace('NO', 0)\n",
      "/var/folders/q1/_ty3whwx34q98jzpxnjtd2pr0000gn/T/ipykernel_23243/3724688615.py:2: SettingWithCopyWarning: \n",
      "A value is trying to be set on a copy of a slice from a DataFrame.\n",
      "Try using .loc[row_indexer,col_indexer] = value instead\n",
      "\n",
      "See the caveats in the documentation: https://pandas.pydata.org/pandas-docs/stable/user_guide/indexing.html#returning-a-view-versus-a-copy\n",
      "  df['readmitted']=df['readmitted'].replace('>30', 1)\n",
      "/var/folders/q1/_ty3whwx34q98jzpxnjtd2pr0000gn/T/ipykernel_23243/3724688615.py:3: SettingWithCopyWarning: \n",
      "A value is trying to be set on a copy of a slice from a DataFrame.\n",
      "Try using .loc[row_indexer,col_indexer] = value instead\n",
      "\n",
      "See the caveats in the documentation: https://pandas.pydata.org/pandas-docs/stable/user_guide/indexing.html#returning-a-view-versus-a-copy\n",
      "  df['readmitted']=df['readmitted'].replace('<30', 2)\n"
     ]
    },
    {
     "data": {
      "text/plain": [
       "0    42985\n",
       "1    22240\n",
       "2     6293\n",
       "Name: readmitted, dtype: int64"
      ]
     },
     "execution_count": 40,
     "metadata": {},
     "output_type": "execute_result"
    }
   ],
   "source": [
    "df['readmitted']=df['readmitted'].replace('NO', 0)\n",
    "df['readmitted']=df['readmitted'].replace('>30', 1)\n",
    "df['readmitted']=df['readmitted'].replace('<30', 2)\n",
    "df.readmitted.value_counts()"
   ]
  },
  {
   "cell_type": "code",
   "execution_count": 41,
   "id": "931464e6",
   "metadata": {},
   "outputs": [
    {
     "name": "stdout",
     "output_type": "stream",
     "text": [
      "<class 'pandas.core.frame.DataFrame'>\n",
      "Int64Index: 71518 entries, 1 to 101766\n",
      "Data columns (total 29 columns):\n",
      " #   Column                    Non-Null Count  Dtype  \n",
      "---  ------                    --------------  -----  \n",
      " 0   race                      71518 non-null  object \n",
      " 1   gender                    71518 non-null  object \n",
      " 2   age                       71518 non-null  int64  \n",
      " 3   admission_type_id         71518 non-null  int64  \n",
      " 4   discharge_disposition_id  71518 non-null  int64  \n",
      " 5   admission_source_id       71518 non-null  int64  \n",
      " 6   time_in_hospital          71518 non-null  int64  \n",
      " 7   num_lab_procedures        71518 non-null  int64  \n",
      " 8   num_procedures            71518 non-null  int64  \n",
      " 9   num_medications           71518 non-null  int64  \n",
      " 10  number_outpatient         71518 non-null  int64  \n",
      " 11  number_emergency          71518 non-null  int64  \n",
      " 12  number_inpatient          71518 non-null  int64  \n",
      " 13  diag_1                    71518 non-null  float64\n",
      " 14  diag_2                    71518 non-null  float64\n",
      " 15  diag_3                    71518 non-null  float64\n",
      " 16  number_diagnoses          71518 non-null  int64  \n",
      " 17  max_glu_serum             71518 non-null  int64  \n",
      " 18  A1Cresult                 71518 non-null  int64  \n",
      " 19  metformin                 71518 non-null  int64  \n",
      " 20  glimepiride               71518 non-null  int64  \n",
      " 21  glipizide                 71518 non-null  int64  \n",
      " 22  glyburide                 71518 non-null  int64  \n",
      " 23  pioglitazone              71518 non-null  int64  \n",
      " 24  rosiglitazone             71518 non-null  int64  \n",
      " 25  insulin                   71518 non-null  int64  \n",
      " 26  change                    71518 non-null  int64  \n",
      " 27  diabetesMed               71518 non-null  int64  \n",
      " 28  readmitted                71518 non-null  int64  \n",
      "dtypes: float64(3), int64(24), object(2)\n",
      "memory usage: 16.4+ MB\n"
     ]
    }
   ],
   "source": [
    "df.info()\n"
   ]
  },
  {
   "cell_type": "code",
   "execution_count": 42,
   "id": "88d41568",
   "metadata": {},
   "outputs": [
    {
     "data": {
      "image/png": "[encoded data removed]",
      "text/plain": [
       "<Figure size 1152x1152 with 2 Axes>"
      ]
     },
     "metadata": {},
     "output_type": "display_data"
    }
   ],
   "source": [
    "#Correlation Analysis\n",
    "matrix = np.triu(df.corr())\n",
    "fig, ax = plt.subplots(figsize=(16,16))\n",
    "sns.heatmap(df.corr(), annot=True, ax=ax, fmt='.1g', vmin=-1, vmax=1, center= 0, mask=matrix, cmap='RdBu_r')\n",
    "plt.show()"
   ]
  },
  {
   "cell_type": "code",
   "execution_count": null,
   "id": "61d9d539",
   "metadata": {},
   "outputs": [],
   "source": []
  }
 ],
 "metadata": {
  "kernelspec": {
   "display_name": "PythonData",
   "language": "python",
   "name": "pythondata"
  },
  "language_info": {
   "codemirror_mode": {
    "name": "ipython",
    "version": 3
   },
   "file_extension": ".py",
   "mimetype": "text/x-python",
   "name": "python",
   "nbconvert_exporter": "python",
   "pygments_lexer": "ipython3",
   "version": "3.9.7"
  }
 },
 "nbformat": 4,
 "nbformat_minor": 5
}
